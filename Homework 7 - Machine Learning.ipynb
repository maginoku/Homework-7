{
 "cells": [
  {
   "cell_type": "code",
   "execution_count": 1,
   "metadata": {},
   "outputs": [],
   "source": [
    "# Import Required packages\n",
    "import os\n",
    "import random\n",
    "import numpy as np\n",
    "import matplotlib.pyplot as plt\n",
    "import pandas as pd\n"
   ]
  },
  {
   "cell_type": "code",
   "execution_count": 4,
   "metadata": {},
   "outputs": [
    {
     "ename": "ModuleNotFoundError",
     "evalue": "No module named 'surprise'",
     "output_type": "error",
     "traceback": [
      "\u001b[1;31m---------------------------------------------------------------------------\u001b[0m",
      "\u001b[1;31mModuleNotFoundError\u001b[0m                       Traceback (most recent call last)",
      "\u001b[1;32m<ipython-input-4-00e92ed08276>\u001b[0m in \u001b[0;36m<module>\u001b[1;34m\u001b[0m\n\u001b[0;32m      1\u001b[0m \u001b[1;31m# Calling essential Algorithms\u001b[0m\u001b[1;33m\u001b[0m\u001b[1;33m\u001b[0m\u001b[1;33m\u001b[0m\u001b[0m\n\u001b[1;32m----> 2\u001b[1;33m \u001b[1;32mfrom\u001b[0m \u001b[0msurprise\u001b[0m \u001b[1;32mimport\u001b[0m \u001b[0mSVD\u001b[0m\u001b[1;33m\u001b[0m\u001b[1;33m\u001b[0m\u001b[0m\n\u001b[0m\u001b[0;32m      3\u001b[0m \u001b[1;32mfrom\u001b[0m \u001b[0msurprise\u001b[0m\u001b[1;33m.\u001b[0m\u001b[0mmodel_selection\u001b[0m \u001b[1;32mimport\u001b[0m \u001b[0mcross_validate\u001b[0m\u001b[1;33m\u001b[0m\u001b[1;33m\u001b[0m\u001b[0m\n\u001b[0;32m      4\u001b[0m \u001b[1;32mfrom\u001b[0m \u001b[0msurprise\u001b[0m\u001b[1;33m.\u001b[0m\u001b[0mmodel_selection\u001b[0m \u001b[1;32mimport\u001b[0m \u001b[0msplit\u001b[0m\u001b[1;33m\u001b[0m\u001b[1;33m\u001b[0m\u001b[0m\n\u001b[0;32m      5\u001b[0m \u001b[1;32mfrom\u001b[0m \u001b[0msurprise\u001b[0m \u001b[1;32mimport\u001b[0m \u001b[0mNMF\u001b[0m\u001b[1;33m\u001b[0m\u001b[1;33m\u001b[0m\u001b[0m\n",
      "\u001b[1;31mModuleNotFoundError\u001b[0m: No module named 'surprise'"
     ]
    }
   ],
   "source": [
    "# Calling essential Algorithms\n",
    "from surprise import SVD\n",
    "from surprise.model_selection import cross_validate\n",
    "from surprise.model_selection import split\n",
    "from surprise import NMF\n",
    "from surprise import KNNBasic\n",
    "from surprise.model_selection import KFold\n",
    "from surprise import Dataset\n",
    "from surprise import Reader\n"
   ]
  },
  {
   "cell_type": "code",
   "execution_count": 5,
   "metadata": {},
   "outputs": [],
   "source": [
    "my_seed = 0\n",
    "random.seed(my_seed)\n",
    "np.random.seed(my_seed)\n"
   ]
  },
  {
   "cell_type": "code",
   "execution_count": 6,
   "metadata": {},
   "outputs": [
    {
     "ename": "NameError",
     "evalue": "name 'Reader' is not defined",
     "output_type": "error",
     "traceback": [
      "\u001b[1;31m---------------------------------------------------------------------------\u001b[0m",
      "\u001b[1;31mNameError\u001b[0m                                 Traceback (most recent call last)",
      "\u001b[1;32m<ipython-input-6-576f789e8ff8>\u001b[0m in \u001b[0;36m<module>\u001b[1;34m\u001b[0m\n\u001b[0;32m      1\u001b[0m \u001b[1;31m# load data from a file\u001b[0m\u001b[1;33m\u001b[0m\u001b[1;33m\u001b[0m\u001b[1;33m\u001b[0m\u001b[0m\n\u001b[0;32m      2\u001b[0m \u001b[0mfile_path\u001b[0m \u001b[1;33m=\u001b[0m \u001b[0mos\u001b[0m\u001b[1;33m.\u001b[0m\u001b[0mpath\u001b[0m\u001b[1;33m.\u001b[0m\u001b[0mexpanduser\u001b[0m\u001b[1;33m(\u001b[0m\u001b[1;34mr'C:\\Users\\Nathan Campbell\\Documents\\Machine Leaning\\Homeworks\\Homework 7\\restaurant_ratings.txt'\u001b[0m\u001b[1;33m)\u001b[0m\u001b[1;33m\u001b[0m\u001b[1;33m\u001b[0m\u001b[0m\n\u001b[1;32m----> 3\u001b[1;33m \u001b[0mreader\u001b[0m \u001b[1;33m=\u001b[0m \u001b[0mReader\u001b[0m\u001b[1;33m(\u001b[0m\u001b[0mline_format\u001b[0m\u001b[1;33m=\u001b[0m\u001b[1;34m'user item rating timestamp'\u001b[0m\u001b[1;33m,\u001b[0m \u001b[0msep\u001b[0m\u001b[1;33m=\u001b[0m\u001b[1;34m'\\t'\u001b[0m\u001b[1;33m)\u001b[0m\u001b[1;33m\u001b[0m\u001b[1;33m\u001b[0m\u001b[0m\n\u001b[0m\u001b[0;32m      4\u001b[0m \u001b[0mdata\u001b[0m \u001b[1;33m=\u001b[0m \u001b[0mDataset\u001b[0m\u001b[1;33m.\u001b[0m\u001b[0mload_from_file\u001b[0m\u001b[1;33m(\u001b[0m\u001b[0mfile_path\u001b[0m\u001b[1;33m,\u001b[0m \u001b[0mreader\u001b[0m\u001b[1;33m=\u001b[0m\u001b[0mreader\u001b[0m\u001b[1;33m)\u001b[0m\u001b[1;33m\u001b[0m\u001b[1;33m\u001b[0m\u001b[0m\n",
      "\u001b[1;31mNameError\u001b[0m: name 'Reader' is not defined"
     ]
    }
   ],
   "source": [
    "# load data from a file\n",
    "file_path = os.path.expanduser(r'C:\\Users\\Nathan Campbell\\Documents\\Machine Leaning\\Homeworks\\Homework 7\\restaurant_ratings.txt')\n",
    "reader = Reader(line_format='user item rating timestamp', sep='\\t')\n",
    "data = Dataset.load_from_file(file_path, reader=reader)\n"
   ]
  },
  {
   "cell_type": "code",
   "execution_count": 7,
   "metadata": {},
   "outputs": [],
   "source": [
    "def compareRmseAndMaeForSvdPmfNmfUserBasedItemBased():\n",
    "    \"\"\"\n",
    "    Returns values for all the algorithms mentioned in the method name\n",
    "    :return: Nothing\n",
    "    \"\"\"\n",
    "    # SVD (Singular Value Decomposition)\n",
    "    print(\"\\n-----------3-folds cross validation SVD----------\\n\")\n",
    "    algo = SVD()\n",
    "    cross_validate(algo, data, cv=3, verbose=True)\n",
    "\n",
    "    # PMF (Probabilistic Matrix Function)\n",
    "    print(\"\\n-----------3-folds cross validation for PMF----------\\n\")\n",
    "    algo = SVD(biased=False)\n",
    "    cross_validate(algo, data, cv=3, verbose=True)\n",
    "\n",
    "    # NMF (Non-negative Matrix Factorization)\n",
    "    print(\"\\n-----------3-folds cross validation for NMF----------\\n\")\n",
    "    algo = NMF()\n",
    "    cross_validate(algo, data, cv=3, verbose=True)\n",
    "\n",
    "    # User based Collaborative Filtering\n",
    "    print(\"\\n-----------3-folds cross validation for User based Collaborative Filtering----------\\n\")\n",
    "    algo = KNNBasic(sim_options={'user_based': True})\n",
    "    cross_validate(algo, data, cv=3, verbose=True)\n",
    "\n",
    "    # Item based Collaborative Filtering\n",
    "    print(\"\\n-----------3-folds cross validation for Item based Collaborative Filtering----------\\n\")\n",
    "    algo = KNNBasic(sim_options={'user_based': False})\n",
    "    cross_validate(algo, data, cv=3, verbose=True)\n"
   ]
  },
  {
   "cell_type": "code",
   "execution_count": 8,
   "metadata": {},
   "outputs": [],
   "source": [
    "def createPlotsDueToSimilarityUsed():\n",
    "    \"\"\"\n",
    "    Plot how Cosine MSD(Mean Squared Difference), and Pearson similarities impact the performances of\n",
    "    User based Collaborative Filtering andItem based Collaborative Filtering.\n",
    "    :return: Nothing\n",
    "    \"\"\"\n",
    "    plotArrayRMSE = []\n",
    "    plotArrayMAE = []\n",
    "    print(\"\\n-----------3-folds cross validation for User based Collaborative Filtering----------\")\n",
    "    print(\"-----------MSD----------\\n\")\n",
    "    algo = KNNBasic(sim_options={'name': 'MSD', 'user_based': True})\n",
    "    user_MSD = cross_validate(algo, data, cv=3, verbose=True)\n",
    "    plotArrayRMSE.append([\"User based Collaborative Filtering\", 1, user_MSD[\"test_rmse\"].mean()])\n",
    "    plotArrayMAE.append([\"User based Collaborative Filtering\", 1, user_MSD[\"test_mae\"].mean()])\n",
    "\n",
    "    print(\"\\n-----------3-folds cross validation for Item based Collaborative Filtering----------\")\n",
    "    print(\"-----------MSD----------\\n\")\n",
    "    algo = KNNBasic(sim_options={'name': 'MSD', 'user_based': False})\n",
    "    item_MSD = cross_validate(algo, data, cv=3, verbose=True)\n",
    "    plotArrayRMSE.append([\"Item based Collaborative Filtering\", 1, item_MSD[\"test_rmse\"].mean()])\n",
    "    plotArrayMAE.append([\"Item based Collaborative Filtering\", 1, item_MSD[\"test_mae\"].mean()])\n",
    "\n",
    "    print(\"\\n-----------3-folds cross validation for User based Collaborative Filtering----------\")\n",
    "    print(\"-----------Cosine----------\\n\")\n",
    "    algo = KNNBasic(sim_options={'name': 'cosine', 'user_based': True})\n",
    "    user_Cos = cross_validate(algo, data, cv=3, verbose=True)\n",
    "    plotArrayRMSE.append([\"User based Collaborative Filtering\", 2, user_Cos[\"test_rmse\"].mean()])\n",
    "    plotArrayMAE.append([\"User based Collaborative Filtering\", 2, user_Cos[\"test_mae\"].mean()])\n",
    "\n",
    "    print(\"\\n-----------3-folds cross validation for Item based Collaborative Filtering----------\")\n",
    "    print(\"-----------Cosine----------\\n\")\n",
    "    algo = KNNBasic(sim_options={'name': 'MSD', 'user_based': False})\n",
    "    item_Cos = cross_validate(algo, data, cv=3, verbose=True)\n",
    "    plotArrayRMSE.append([\"Item based Collaborative Filtering\", 2, item_Cos[\"test_rmse\"].mean()])\n",
    "    plotArrayMAE.append([\"Item based Collaborative Filtering\", 2, item_Cos[\"test_mae\"].mean()])\n",
    "\n",
    "    print(\"\\n-----------3-folds cross validation for User based Collaborative Filtering----------\")\n",
    "    print(\"-----------pearson----------\\n\")\n",
    "    algo = KNNBasic(sim_options={'name': 'pearson', 'user_based': True})\n",
    "    user_Pear = cross_validate(algo, data, cv=3, verbose=True)\n",
    "    plotArrayRMSE.append([\"User based Collaborative Filtering\", 3, user_Pear[\"test_rmse\"].mean()])\n",
    "    plotArrayMAE.append([\"User based Collaborative Filtering\", 3, user_Pear[\"test_mae\"].mean()])\n",
    "\n",
    "    print(\"\\n-----------3-folds cross validation for Item based Collaborative Filtering----------\")\n",
    "    print(\"-----------pearson----------\\n\")\n",
    "    algo = KNNBasic(sim_options={'name': 'MSD', 'user_based': False})\n",
    "    item_Pear = cross_validate(algo, data, cv=3, verbose=True)\n",
    "    plotArrayRMSE.append([\"Item based Collaborative Filtering\", 3, item_Pear[\"test_rmse\"].mean()])\n",
    "    plotArrayMAE.append([\"Item based Collaborative Filtering\", 3, item_Pear[\"test_mae\"].mean()])\n",
    "\n",
    "    plotRmseDF = pd.DataFrame(data=plotArrayRMSE, columns=[\"Filtering Method Used\", \"Algorithm\", \"RMSE\"])\n",
    "    plotRmseDF.pivot(\"Algorithm\", \"Filtering Method Used\", \"RMSE\").plot(kind=\"bar\")\n",
    "    plt.title(\"User vs Item Based Collaboration (RMSE)\")\n",
    "    plt.ylabel(\"RMSE\")\n",
    "    plt.ylim(.9, 1.1)\n",
    "    plt.show()\n",
    "\n",
    "    plotMaeDF = pd.DataFrame(data=plotArrayMAE, columns=[\"Filtering Method Used\", \"Algorithm\", \"MAE\"])\n",
    "    plotMaeDF.pivot(\"Algorithm\", \"Filtering Method Used\", \"MAE\").plot(kind=\"bar\")\n",
    "    plt.title(\"User vs Item Based Collaboration (MAE)\")\n",
    "    plt.ylabel(\"MAE\")\n",
    "    plt.ylim(.7, .9)\n",
    "    plt.show()\n",
    " \n",
    "PlotsSimilarity()\n"
   ]
  },
  {
   "cell_type": "code",
   "execution_count": 9,
   "metadata": {},
   "outputs": [
    {
     "ename": "NameError",
     "evalue": "name 'KNNBasic' is not defined",
     "output_type": "error",
     "traceback": [
      "\u001b[1;31m---------------------------------------------------------------------------\u001b[0m",
      "\u001b[1;31mNameError\u001b[0m                                 Traceback (most recent call last)",
      "\u001b[1;32m<ipython-input-9-66611d724312>\u001b[0m in \u001b[0;36m<module>\u001b[1;34m\u001b[0m\n\u001b[0;32m     26\u001b[0m     \u001b[0mplt\u001b[0m\u001b[1;33m.\u001b[0m\u001b[0mshow\u001b[0m\u001b[1;33m(\u001b[0m\u001b[1;33m)\u001b[0m\u001b[1;33m\u001b[0m\u001b[1;33m\u001b[0m\u001b[0m\n\u001b[0;32m     27\u001b[0m \u001b[1;33m\u001b[0m\u001b[0m\n\u001b[1;32m---> 28\u001b[1;33m \u001b[0mNeighborsFiltering\u001b[0m\u001b[1;33m(\u001b[0m\u001b[1;33m)\u001b[0m\u001b[1;33m\u001b[0m\u001b[1;33m\u001b[0m\u001b[0m\n\u001b[0m",
      "\u001b[1;32m<ipython-input-9-66611d724312>\u001b[0m in \u001b[0;36mNeighborsFiltering\u001b[1;34m()\u001b[0m\n\u001b[0;32m      4\u001b[0m     \u001b[0mneighbors\u001b[0m \u001b[1;33m=\u001b[0m \u001b[1;33m[\u001b[0m\u001b[1;36m1\u001b[0m\u001b[1;33m,\u001b[0m\u001b[1;36m2\u001b[0m\u001b[1;33m,\u001b[0m\u001b[1;36m3\u001b[0m\u001b[1;33m,\u001b[0m\u001b[1;36m4\u001b[0m\u001b[1;33m,\u001b[0m\u001b[1;36m5\u001b[0m\u001b[1;33m,\u001b[0m\u001b[1;36m6\u001b[0m\u001b[1;33m,\u001b[0m\u001b[1;36m7\u001b[0m\u001b[1;33m,\u001b[0m\u001b[1;36m8\u001b[0m\u001b[1;33m,\u001b[0m\u001b[1;36m9\u001b[0m\u001b[1;33m,\u001b[0m\u001b[1;36m10\u001b[0m\u001b[1;33m,\u001b[0m\u001b[1;36m11\u001b[0m\u001b[1;33m,\u001b[0m\u001b[1;36m12\u001b[0m\u001b[1;33m,\u001b[0m\u001b[1;36m13\u001b[0m\u001b[1;33m,\u001b[0m\u001b[1;36m14\u001b[0m\u001b[1;33m,\u001b[0m\u001b[1;36m15\u001b[0m\u001b[1;33m,\u001b[0m\u001b[1;36m16\u001b[0m\u001b[1;33m,\u001b[0m\u001b[1;36m17\u001b[0m\u001b[1;33m,\u001b[0m\u001b[1;36m18\u001b[0m\u001b[1;33m,\u001b[0m\u001b[1;36m19\u001b[0m\u001b[1;33m,\u001b[0m\u001b[1;36m20\u001b[0m\u001b[1;33m]\u001b[0m\u001b[1;33m\u001b[0m\u001b[1;33m\u001b[0m\u001b[0m\n\u001b[0;32m      5\u001b[0m     \u001b[1;32mfor\u001b[0m \u001b[0mk\u001b[0m \u001b[1;32min\u001b[0m \u001b[0mneighbors\u001b[0m\u001b[1;33m:\u001b[0m\u001b[1;33m\u001b[0m\u001b[1;33m\u001b[0m\u001b[0m\n\u001b[1;32m----> 6\u001b[1;33m         \u001b[0malgo\u001b[0m \u001b[1;33m=\u001b[0m \u001b[0mKNNBasic\u001b[0m\u001b[1;33m(\u001b[0m\u001b[0mk\u001b[0m\u001b[1;33m,\u001b[0m\u001b[0msim_options\u001b[0m\u001b[1;33m=\u001b[0m\u001b[1;33m{\u001b[0m\u001b[1;34m'name'\u001b[0m\u001b[1;33m:\u001b[0m \u001b[1;34m'MSD'\u001b[0m\u001b[1;33m,\u001b[0m \u001b[1;34m'user_based'\u001b[0m\u001b[1;33m:\u001b[0m \u001b[1;32mTrue\u001b[0m\u001b[1;33m}\u001b[0m\u001b[1;33m)\u001b[0m\u001b[1;33m\u001b[0m\u001b[1;33m\u001b[0m\u001b[0m\n\u001b[0m\u001b[0;32m      7\u001b[0m         \u001b[0muserbased_neighbors\u001b[0m \u001b[1;33m=\u001b[0m \u001b[0mcross_validate\u001b[0m\u001b[1;33m(\u001b[0m\u001b[0malgo\u001b[0m\u001b[1;33m,\u001b[0m \u001b[0mdata\u001b[0m\u001b[1;33m,\u001b[0m \u001b[0mcv\u001b[0m\u001b[1;33m=\u001b[0m\u001b[1;36m3\u001b[0m\u001b[1;33m,\u001b[0m \u001b[0mverbose\u001b[0m\u001b[1;33m=\u001b[0m\u001b[1;32mFalse\u001b[0m\u001b[1;33m)\u001b[0m\u001b[1;33m\u001b[0m\u001b[1;33m\u001b[0m\u001b[0m\n\u001b[0;32m      8\u001b[0m         \u001b[0mplotRMSE\u001b[0m\u001b[1;33m.\u001b[0m\u001b[0mappend\u001b[0m\u001b[1;33m(\u001b[0m\u001b[1;33m[\u001b[0m\u001b[1;34m\"User based Collaborative Filtering\"\u001b[0m\u001b[1;33m,\u001b[0m\u001b[0mk\u001b[0m \u001b[1;33m,\u001b[0m \u001b[0muserbased_neighbors\u001b[0m\u001b[1;33m[\u001b[0m\u001b[1;34m\"test_rmse\"\u001b[0m\u001b[1;33m]\u001b[0m\u001b[1;33m.\u001b[0m\u001b[0mmean\u001b[0m\u001b[1;33m(\u001b[0m\u001b[1;33m)\u001b[0m\u001b[1;33m]\u001b[0m\u001b[1;33m)\u001b[0m\u001b[1;33m\u001b[0m\u001b[1;33m\u001b[0m\u001b[0m\n",
      "\u001b[1;31mNameError\u001b[0m: name 'KNNBasic' is not defined"
     ]
    }
   ],
   "source": [
    "def NeighborsFiltering():\n",
    "    plotRMSE = []\n",
    "    plotMAE = []\n",
    "    neighbors = [1,2,3,4,5,6,7,8,9,10,11,12,13,14,15,16,17,18,19,20]\n",
    "    for k in neighbors:\n",
    "        algo = KNNBasic(k,sim_options={'name': 'MSD', 'user_based': True})\n",
    "        userbased_neighbors = cross_validate(algo, data, cv=3, verbose=False)\n",
    "        plotRMSE.append([\"User based Collaborative Filtering\",k , userbased_neighbors[\"test_rmse\"].mean()])\n",
    "        plotMAE.append([\"User based Collaborative Filtering\", k, userbased_neighbors[\"test_mae\"].mean()])\n",
    "        \n",
    "        algo = KNNBasic(k,sim_options={'name': 'MSD', 'user_based': False})\n",
    "        userbased_neighbors = cross_validate(algo, data, cv=3, verbose=False)\n",
    "        plotRMSE.append([\"Item based Collaborative Filtering\",k , userbased_neighbors[\"test_rmse\"].mean()])\n",
    "        plotMAE.append([\"Item based Collaborative Filtering\", k, userbased_neighbors[\"test_mae\"].mean()])\n",
    "        \n",
    "    print(plotRMSE)\n",
    "    plotRmseDF = pd.DataFrame(data=plotRMSE, columns=[\"Filtering Method Used\", \"Number of Neighbors\", \"RMSE\"])\n",
    "    plotRmseDF.pivot(\"Number of Neighbors\", \"Filtering Method Used\", \"RMSE\").plot(kind=\"bar\")\n",
    "    plt.ylim(.9, 1.1)\n",
    "    plt.show()\n",
    "\n",
    "    print(plotMAE)\n",
    "    plotRmseDF = pd.DataFrame(data=plotMAE, columns=[\"Filtering Method Used\", \"Number of neighbors\", \"MAE\"])\n",
    "    plotRmseDF.pivot(\"Number of neighbors\", \"Filtering Method Used\", \"MAE\").plot(kind=\"bar\")\n",
    "    plt.ylim(.7, .9)\n",
    "    plt.show()\n",
    "    \n",
    "Neighbors_Filtering()\n"
   ]
  }
 ],
 "metadata": {
  "kernelspec": {
   "display_name": "Python 3",
   "language": "python",
   "name": "python3"
  },
  "language_info": {
   "codemirror_mode": {
    "name": "ipython",
    "version": 3
   },
   "file_extension": ".py",
   "mimetype": "text/x-python",
   "name": "python",
   "nbconvert_exporter": "python",
   "pygments_lexer": "ipython3",
   "version": "3.7.6"
  }
 },
 "nbformat": 4,
 "nbformat_minor": 4
}
